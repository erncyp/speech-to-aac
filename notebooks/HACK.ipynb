{
 "cells": [
  {
   "cell_type": "code",
   "execution_count": 1,
   "metadata": {
    "ExecuteTime": {
     "end_time": "2021-12-20T21:07:10.033124Z",
     "start_time": "2021-12-20T21:07:09.596840Z"
    }
   },
   "outputs": [],
   "source": [
    "import pandas as pd\n",
    "from IPython.core.display import SVG, HTML\n",
    "\n",
    "from pathlib import Path\n",
    "import zipfile\n",
    "import urllib\n",
    "\n",
    "SYMBOLS_DIR = Path.cwd() / '../symbols'\n",
    "SYMBOLS_DIR.mkdir(exist_ok=True)\n",
    "\n",
    "SYMBOLS_ZIP_URL = \"https://github.com/mulberrysymbols/mulberry-symbols/releases/download/v3.5/mulberry-symbols.zip\"\n",
    "SYMBOLS_INFO_URL = 'https://github.com/mulberrysymbols/mulberry-symbols/releases/latest/download/symbol-info.csv'"
   ]
  },
  {
   "cell_type": "code",
   "execution_count": null,
   "metadata": {
    "ExecuteTime": {
     "end_time": "2021-12-20T20:06:10.614992Z",
     "start_time": "2021-12-20T20:06:10.602565Z"
    }
   },
   "outputs": [],
   "source": []
  },
  {
   "cell_type": "markdown",
   "metadata": {},
   "source": [
    "# SPEECH TO AAC\n",
    "\n",
    "In this notebook I will try to implement a simple bit of code which can listen to speech and return the symbols for AAC(augmentative and alternative communication).\n",
    "\n",
    "Sources:\n",
    "- https://github.com/cboard-org/cboard\n",
    "- https://mulberrysymbols.org/ (from above source)\n",
    "\n"
   ]
  },
  {
   "cell_type": "markdown",
   "metadata": {
    "ExecuteTime": {
     "end_time": "2021-12-20T19:51:54.280322Z",
     "start_time": "2021-12-20T19:51:54.276867Z"
    }
   },
   "source": [
    "# Load symbols"
   ]
  },
  {
   "cell_type": "code",
   "execution_count": 2,
   "metadata": {
    "ExecuteTime": {
     "end_time": "2021-12-20T21:07:17.080530Z",
     "start_time": "2021-12-20T21:07:10.036702Z"
    }
   },
   "outputs": [],
   "source": [
    "urllib.request.urlretrieve(SYMBOLS_ZIP_URL, \"mulberry-symbols.zip\")\n",
    "with zipfile.ZipFile(\"mulberry-symbols.zip\",\"r\") as zip_ref:\n",
    "    zip_ref.extractall(SYMBOLS_DIR)\n"
   ]
  },
  {
   "cell_type": "code",
   "execution_count": 3,
   "metadata": {
    "ExecuteTime": {
     "end_time": "2021-12-20T21:07:17.993170Z",
     "start_time": "2021-12-20T21:07:17.083739Z"
    }
   },
   "outputs": [],
   "source": [
    "df_symbols = pd.read_csv(SYMBOLS_INFO_URL)"
   ]
  },
  {
   "cell_type": "code",
   "execution_count": 4,
   "metadata": {
    "ExecuteTime": {
     "end_time": "2021-12-20T21:07:18.077668Z",
     "start_time": "2021-12-20T21:07:17.996212Z"
    }
   },
   "outputs": [
    {
     "data": {
      "text/html": [
       "<div>\n",
       "<style scoped>\n",
       "    .dataframe tbody tr th:only-of-type {\n",
       "        vertical-align: middle;\n",
       "    }\n",
       "\n",
       "    .dataframe tbody tr th {\n",
       "        vertical-align: top;\n",
       "    }\n",
       "\n",
       "    .dataframe thead th {\n",
       "        text-align: right;\n",
       "    }\n",
       "</style>\n",
       "<table border=\"1\" class=\"dataframe\">\n",
       "  <thead>\n",
       "    <tr style=\"text-align: right;\">\n",
       "      <th></th>\n",
       "      <th>symbol-id</th>\n",
       "      <th>category-id</th>\n",
       "      <th>grammar</th>\n",
       "      <th>rated</th>\n",
       "      <th>tags</th>\n",
       "      <th>symbol-en</th>\n",
       "      <th>category-en</th>\n",
       "      <th>symbol-fr</th>\n",
       "      <th>category-fr</th>\n",
       "    </tr>\n",
       "  </thead>\n",
       "  <tbody>\n",
       "    <tr>\n",
       "      <th>0</th>\n",
       "      <td>1</td>\n",
       "      <td>1</td>\n",
       "      <td>Letter</td>\n",
       "      <td>0</td>\n",
       "      <td>alphabet letter</td>\n",
       "      <td>A</td>\n",
       "      <td>Alphabet</td>\n",
       "      <td>UNE</td>\n",
       "      <td>Alphabet</td>\n",
       "    </tr>\n",
       "    <tr>\n",
       "      <th>1</th>\n",
       "      <td>2</td>\n",
       "      <td>1</td>\n",
       "      <td>Noun</td>\n",
       "      <td>0</td>\n",
       "      <td>alphabet letter</td>\n",
       "      <td>a_-_lower_case</td>\n",
       "      <td>Alphabet</td>\n",
       "      <td>un _-_ lower_case</td>\n",
       "      <td>Alphabet</td>\n",
       "    </tr>\n",
       "    <tr>\n",
       "      <th>2</th>\n",
       "      <td>3</td>\n",
       "      <td>40</td>\n",
       "      <td>Noun</td>\n",
       "      <td>0</td>\n",
       "      <td>direction position</td>\n",
       "      <td>above</td>\n",
       "      <td>Descriptive Position</td>\n",
       "      <td>au dessus de</td>\n",
       "      <td>Position descriptive</td>\n",
       "    </tr>\n",
       "    <tr>\n",
       "      <th>3</th>\n",
       "      <td>4</td>\n",
       "      <td>43</td>\n",
       "      <td>Noun</td>\n",
       "      <td>0</td>\n",
       "      <td>NaN</td>\n",
       "      <td>absent</td>\n",
       "      <td>Descriptive State</td>\n",
       "      <td>absent</td>\n",
       "      <td>descriptif État</td>\n",
       "    </tr>\n",
       "    <tr>\n",
       "      <th>4</th>\n",
       "      <td>5</td>\n",
       "      <td>77</td>\n",
       "      <td>Noun</td>\n",
       "      <td>0</td>\n",
       "      <td>NaN</td>\n",
       "      <td>acne_spots</td>\n",
       "      <td>Healthcare Medical conditions</td>\n",
       "      <td>acne_spots</td>\n",
       "      <td>Santé Conditions médicales</td>\n",
       "    </tr>\n",
       "    <tr>\n",
       "      <th>...</th>\n",
       "      <td>...</td>\n",
       "      <td>...</td>\n",
       "      <td>...</td>\n",
       "      <td>...</td>\n",
       "      <td>...</td>\n",
       "      <td>...</td>\n",
       "      <td>...</td>\n",
       "      <td>...</td>\n",
       "      <td>...</td>\n",
       "    </tr>\n",
       "    <tr>\n",
       "      <th>3431</th>\n",
       "      <td>3432</td>\n",
       "      <td>113</td>\n",
       "      <td>Verb</td>\n",
       "      <td>0</td>\n",
       "      <td>NaN</td>\n",
       "      <td>write_,_to</td>\n",
       "      <td>Verb</td>\n",
       "      <td>écrire à</td>\n",
       "      <td>Verbe</td>\n",
       "    </tr>\n",
       "    <tr>\n",
       "      <th>3432</th>\n",
       "      <td>3433</td>\n",
       "      <td>113</td>\n",
       "      <td>VerbComplex</td>\n",
       "      <td>0</td>\n",
       "      <td>NaN</td>\n",
       "      <td>write_cheque_,_to</td>\n",
       "      <td>Verb</td>\n",
       "      <td>write_cheque _, _ à</td>\n",
       "      <td>Verbe</td>\n",
       "    </tr>\n",
       "    <tr>\n",
       "      <th>3433</th>\n",
       "      <td>3434</td>\n",
       "      <td>113</td>\n",
       "      <td>VerbComplex</td>\n",
       "      <td>0</td>\n",
       "      <td>NaN</td>\n",
       "      <td>write_letter_,_to</td>\n",
       "      <td>Verb</td>\n",
       "      <td>write_letter _, _ à</td>\n",
       "      <td>Verbe</td>\n",
       "    </tr>\n",
       "    <tr>\n",
       "      <th>3434</th>\n",
       "      <td>3435</td>\n",
       "      <td>113</td>\n",
       "      <td>Verb</td>\n",
       "      <td>0</td>\n",
       "      <td>NaN</td>\n",
       "      <td>yawn_,_to</td>\n",
       "      <td>Verb</td>\n",
       "      <td>bâillement _, _ à</td>\n",
       "      <td>Verbe</td>\n",
       "    </tr>\n",
       "    <tr>\n",
       "      <th>3435</th>\n",
       "      <td>3436</td>\n",
       "      <td>113</td>\n",
       "      <td>Verb</td>\n",
       "      <td>0</td>\n",
       "      <td>NaN</td>\n",
       "      <td>zoom_,_to</td>\n",
       "      <td>Verb</td>\n",
       "      <td>zoom _, _ à</td>\n",
       "      <td>Verbe</td>\n",
       "    </tr>\n",
       "  </tbody>\n",
       "</table>\n",
       "<p>3436 rows × 9 columns</p>\n",
       "</div>"
      ],
      "text/plain": [
       "      symbol-id  category-id      grammar  rated                tags  \\\n",
       "0             1            1       Letter      0     alphabet letter   \n",
       "1             2            1         Noun      0     alphabet letter   \n",
       "2             3           40         Noun      0  direction position   \n",
       "3             4           43         Noun      0                 NaN   \n",
       "4             5           77         Noun      0                 NaN   \n",
       "...         ...          ...          ...    ...                 ...   \n",
       "3431       3432          113         Verb      0                 NaN   \n",
       "3432       3433          113  VerbComplex      0                 NaN   \n",
       "3433       3434          113  VerbComplex      0                 NaN   \n",
       "3434       3435          113         Verb      0                 NaN   \n",
       "3435       3436          113         Verb      0                 NaN   \n",
       "\n",
       "              symbol-en                    category-en            symbol-fr  \\\n",
       "0                     A                       Alphabet                  UNE   \n",
       "1        a_-_lower_case                       Alphabet    un _-_ lower_case   \n",
       "2                 above           Descriptive Position         au dessus de   \n",
       "3                absent              Descriptive State               absent   \n",
       "4            acne_spots  Healthcare Medical conditions           acne_spots   \n",
       "...                 ...                            ...                  ...   \n",
       "3431         write_,_to                           Verb             écrire à   \n",
       "3432  write_cheque_,_to                           Verb  write_cheque _, _ à   \n",
       "3433  write_letter_,_to                           Verb  write_letter _, _ à   \n",
       "3434          yawn_,_to                           Verb    bâillement _, _ à   \n",
       "3435          zoom_,_to                           Verb          zoom _, _ à   \n",
       "\n",
       "                     category-fr  \n",
       "0                       Alphabet  \n",
       "1                       Alphabet  \n",
       "2           Position descriptive  \n",
       "3                descriptif État  \n",
       "4     Santé Conditions médicales  \n",
       "...                          ...  \n",
       "3431                       Verbe  \n",
       "3432                       Verbe  \n",
       "3433                       Verbe  \n",
       "3434                       Verbe  \n",
       "3435                       Verbe  \n",
       "\n",
       "[3436 rows x 9 columns]"
      ]
     },
     "execution_count": 4,
     "metadata": {},
     "output_type": "execute_result"
    }
   ],
   "source": [
    "df_symbols"
   ]
  },
  {
   "cell_type": "code",
   "execution_count": 5,
   "metadata": {
    "ExecuteTime": {
     "end_time": "2021-12-20T21:07:18.095609Z",
     "start_time": "2021-12-20T21:07:18.080691Z"
    }
   },
   "outputs": [
    {
     "data": {
      "text/html": [
       "<img src=\"../symbols/EN-symbols/absent.svg\" width=\"100\"><img src=\"../symbols/EN-symbols/above.svg\" width=\"100\">"
      ],
      "text/plain": [
       "<IPython.core.display.HTML object>"
      ]
     },
     "execution_count": 5,
     "metadata": {},
     "output_type": "execute_result"
    }
   ],
   "source": [
    "def html_symbol(symbol_en_names, width=100, image_folder=SYMBOLS_DIR):\n",
    "    if isinstance(symbol_en_names,str):\n",
    "        symbol_en_names = list(symbol_en_names)\n",
    "        \n",
    "    html_text = ''\n",
    "    for symbol_en_name in  symbol_en_names:\n",
    "        file_name = image_folder / f'EN-symbols/{symbol_en_name}.svg'\n",
    "        file_name = str(file_name.relative_to(Path.cwd()))\n",
    "        html_text += f'<img src=\"{file_name}\" width=\"{width}\">'\n",
    "    \n",
    "    return HTML(html_text)\n",
    "html_symbol(['absent','above'])"
   ]
  },
  {
   "cell_type": "code",
   "execution_count": null,
   "metadata": {},
   "outputs": [],
   "source": []
  }
 ],
 "metadata": {
  "kernelspec": {
   "display_name": "Python 3",
   "language": "python",
   "name": "python3"
  },
  "language_info": {
   "codemirror_mode": {
    "name": "ipython",
    "version": 3
   },
   "file_extension": ".py",
   "mimetype": "text/x-python",
   "name": "python",
   "nbconvert_exporter": "python",
   "pygments_lexer": "ipython3",
   "version": "3.8.10"
  }
 },
 "nbformat": 4,
 "nbformat_minor": 4
}
